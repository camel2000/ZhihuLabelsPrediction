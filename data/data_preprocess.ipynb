{
 "cells": [
  {
   "cell_type": "code",
   "execution_count": 87,
   "metadata": {},
   "outputs": [
    {
     "data": {
      "text/plain": [
       "'/Users/huyong/code/github/ZhihuLabelsPrediction/models/bigru_with_attention'"
      ]
     },
     "execution_count": 87,
     "metadata": {},
     "output_type": "execute_result"
    }
   ],
   "source": [
    "pwd"
   ]
  },
  {
   "cell_type": "code",
   "execution_count": 88,
   "metadata": {},
   "outputs": [],
   "source": [
    "import pandas as pd"
   ]
  },
  {
   "cell_type": "code",
   "execution_count": 89,
   "metadata": {},
   "outputs": [],
   "source": [
    "voc = pd.read_csv('./data/voc.csv')"
   ]
  },
  {
   "cell_type": "code",
   "execution_count": 90,
   "metadata": {},
   "outputs": [
    {
     "data": {
      "text/html": [
       "<div>\n",
       "<style scoped>\n",
       "    .dataframe tbody tr th:only-of-type {\n",
       "        vertical-align: middle;\n",
       "    }\n",
       "\n",
       "    .dataframe tbody tr th {\n",
       "        vertical-align: top;\n",
       "    }\n",
       "\n",
       "    .dataframe thead th {\n",
       "        text-align: right;\n",
       "    }\n",
       "</style>\n",
       "<table border=\"1\" class=\"dataframe\">\n",
       "  <thead>\n",
       "    <tr style=\"text-align: right;\">\n",
       "      <th></th>\n",
       "      <th>word</th>\n",
       "      <th>word_id</th>\n",
       "      <th>word_frequency</th>\n",
       "    </tr>\n",
       "  </thead>\n",
       "  <tbody>\n",
       "    <tr>\n",
       "      <th>0</th>\n",
       "      <td>&lt;PAD&gt;</td>\n",
       "      <td>0</td>\n",
       "      <td>0</td>\n",
       "    </tr>\n",
       "    <tr>\n",
       "      <th>1</th>\n",
       "      <td>&lt;UNK&gt;</td>\n",
       "      <td>1</td>\n",
       "      <td>0</td>\n",
       "    </tr>\n",
       "    <tr>\n",
       "      <th>2</th>\n",
       "      <td>，</td>\n",
       "      <td>2</td>\n",
       "      <td>4021192</td>\n",
       "    </tr>\n",
       "    <tr>\n",
       "      <th>3</th>\n",
       "      <td>的</td>\n",
       "      <td>3</td>\n",
       "      <td>3021942</td>\n",
       "    </tr>\n",
       "    <tr>\n",
       "      <th>4</th>\n",
       "      <td>。</td>\n",
       "      <td>4</td>\n",
       "      <td>1339001</td>\n",
       "    </tr>\n",
       "    <tr>\n",
       "      <th>5</th>\n",
       "      <td>？</td>\n",
       "      <td>5</td>\n",
       "      <td>1276040</td>\n",
       "    </tr>\n",
       "    <tr>\n",
       "      <th>6</th>\n",
       "      <td>是</td>\n",
       "      <td>6</td>\n",
       "      <td>1191386</td>\n",
       "    </tr>\n",
       "    <tr>\n",
       "      <th>7</th>\n",
       "      <td>我</td>\n",
       "      <td>7</td>\n",
       "      <td>1171798</td>\n",
       "    </tr>\n",
       "    <tr>\n",
       "      <th>8</th>\n",
       "      <td>不</td>\n",
       "      <td>8</td>\n",
       "      <td>1161837</td>\n",
       "    </tr>\n",
       "    <tr>\n",
       "      <th>9</th>\n",
       "      <td>了</td>\n",
       "      <td>9</td>\n",
       "      <td>930755</td>\n",
       "    </tr>\n",
       "  </tbody>\n",
       "</table>\n",
       "</div>"
      ],
      "text/plain": [
       "    word  word_id  word_frequency\n",
       "0  <PAD>        0               0\n",
       "1  <UNK>        1               0\n",
       "2      ，        2         4021192\n",
       "3      的        3         3021942\n",
       "4      。        4         1339001\n",
       "5      ？        5         1276040\n",
       "6      是        6         1191386\n",
       "7      我        7         1171798\n",
       "8      不        8         1161837\n",
       "9      了        9          930755"
      ]
     },
     "execution_count": 90,
     "metadata": {},
     "output_type": "execute_result"
    }
   ],
   "source": [
    "voc[:10]"
   ]
  },
  {
   "cell_type": "code",
   "execution_count": 91,
   "metadata": {},
   "outputs": [
    {
     "name": "stderr",
     "output_type": "stream",
     "text": [
      "19606it [00:01, 10718.46it/s]\n"
     ]
    }
   ],
   "source": [
    "from tqdm import tqdm\n",
    "word2id = {}\n",
    "for index,row in tqdm(voc.iterrows()):\n",
    "    word2id[row['word']] = row['word_id']"
   ]
  },
  {
   "cell_type": "code",
   "execution_count": 92,
   "metadata": {},
   "outputs": [
    {
     "data": {
      "text/plain": [
       "3"
      ]
     },
     "execution_count": 92,
     "metadata": {},
     "output_type": "execute_result"
    }
   ],
   "source": [
    "word2id['的']"
   ]
  },
  {
   "cell_type": "code",
   "execution_count": 93,
   "metadata": {},
   "outputs": [],
   "source": [
    "import pickle"
   ]
  },
  {
   "cell_type": "code",
   "execution_count": 94,
   "metadata": {},
   "outputs": [],
   "source": [
    "pickle.dump(word2id,open('./data/word2id.pkl','wb'))"
   ]
  },
  {
   "cell_type": "code",
   "execution_count": 95,
   "metadata": {},
   "outputs": [
    {
     "name": "stderr",
     "output_type": "stream",
     "text": [
      "25551it [00:02, 11351.72it/s]\n"
     ]
    }
   ],
   "source": [
    "topic_df = pd.read_csv('./data/topic_2_id.csv')\n",
    "topic2id = {}\n",
    "for index,row in tqdm(topic_df.iterrows()):\n",
    "    topic2id[row['topic_name']] = row['topic_id']"
   ]
  },
  {
   "cell_type": "code",
   "execution_count": 96,
   "metadata": {},
   "outputs": [
    {
     "data": {
      "text/plain": [
       "1"
      ]
     },
     "execution_count": 96,
     "metadata": {},
     "output_type": "execute_result"
    }
   ],
   "source": [
    "topic2id['生活']"
   ]
  },
  {
   "cell_type": "code",
   "execution_count": 97,
   "metadata": {},
   "outputs": [],
   "source": [
    "pickle.dump(word2id,open('./data/topic2id.pkl','wb'))"
   ]
  },
  {
   "cell_type": "code",
   "execution_count": 98,
   "metadata": {},
   "outputs": [],
   "source": [
    "# 规整数据\n",
    "df = pd.read_csv('./data/data_cut.csv')"
   ]
  },
  {
   "cell_type": "code",
   "execution_count": 99,
   "metadata": {},
   "outputs": [
    {
     "data": {
      "text/html": [
       "<div>\n",
       "<style scoped>\n",
       "    .dataframe tbody tr th:only-of-type {\n",
       "        vertical-align: middle;\n",
       "    }\n",
       "\n",
       "    .dataframe tbody tr th {\n",
       "        vertical-align: top;\n",
       "    }\n",
       "\n",
       "    .dataframe thead th {\n",
       "        text-align: right;\n",
       "    }\n",
       "</style>\n",
       "<table border=\"1\" class=\"dataframe\">\n",
       "  <thead>\n",
       "    <tr style=\"text-align: right;\">\n",
       "      <th></th>\n",
       "      <th>question_id</th>\n",
       "      <th>question_title</th>\n",
       "      <th>question_detail</th>\n",
       "      <th>tag_names</th>\n",
       "      <th>tag_ids</th>\n",
       "    </tr>\n",
       "  </thead>\n",
       "  <tbody>\n",
       "    <tr>\n",
       "      <th>0</th>\n",
       "      <td>2600784210</td>\n",
       "      <td>如何 最 快 确定 自己 乘坐 的 飞机 自 几 号 航站楼 起飞 ？</td>\n",
       "      <td>有时 你 收到 的 航班 信息 里 没有 写明 是 哪 个 航站 楼 。 update . ...</td>\n",
       "      <td>飞机|生活|旅行|机场|城市生活|航空公司</td>\n",
       "      <td>264|1|27|1699|356|1267</td>\n",
       "    </tr>\n",
       "    <tr>\n",
       "      <th>1</th>\n",
       "      <td>1714848368</td>\n",
       "      <td>产品 假设 ： 用户 天生 善良 还是 邪恶 ？</td>\n",
       "      <td>美国 人 做 互联网 产品 ， 通常 会 假设 用户 天生 善良 ， 爱惜羽毛 ； 中国 人...</td>\n",
       "      <td>互联网用户|互联网产品</td>\n",
       "      <td>12183|291</td>\n",
       "    </tr>\n",
       "    <tr>\n",
       "      <th>2</th>\n",
       "      <td>1813305872</td>\n",
       "      <td>为什 么 知乎 的 用户 看起 来 更 喜欢 咖啡馆 而 不 是 茶馆 ？</td>\n",
       "      <td>NaN</td>\n",
       "      <td>生活方式|生活|城市生活</td>\n",
       "      <td>70|1|356</td>\n",
       "    </tr>\n",
       "    <tr>\n",
       "      <th>3</th>\n",
       "      <td>3776529318</td>\n",
       "      <td>回 家 给 父母 买什 么 礼物 最 好 ？</td>\n",
       "      <td>NaN</td>\n",
       "      <td>父母|春节|礼物</td>\n",
       "      <td>86|691|315</td>\n",
       "    </tr>\n",
       "    <tr>\n",
       "      <th>4</th>\n",
       "      <td>1805889373</td>\n",
       "      <td>SEO 的 业务 前景 如何 ？ 为什 么 这 么 认为 ？</td>\n",
       "      <td>NaN</td>\n",
       "      <td>搜索引擎营销（SEM）|网络营销|搜索引擎优化（SEO）</td>\n",
       "      <td>3225|683|805</td>\n",
       "    </tr>\n",
       "    <tr>\n",
       "      <th>5</th>\n",
       "      <td>3769324318</td>\n",
       "      <td>摩尔 庄园 受到 小朋友 欢迎 的 关键 原因 是 什 么 ？</td>\n",
       "      <td>NaN</td>\n",
       "      <td>摩尔庄园|淘米网</td>\n",
       "      <td>18575|21803</td>\n",
       "    </tr>\n",
       "    <tr>\n",
       "      <th>6</th>\n",
       "      <td>3776166802</td>\n",
       "      <td>对于 一个 国内 中小型 城市 来 说 ， 修建 市内 地铁 / 轻轨 是 否 是 解决 交...</td>\n",
       "      <td>NaN</td>\n",
       "      <td>城市规划|地铁|交通拥堵</td>\n",
       "      <td>542|501|9907</td>\n",
       "    </tr>\n",
       "    <tr>\n",
       "      <th>7</th>\n",
       "      <td>2227360902</td>\n",
       "      <td>阿 北 （ 杨勃 ） 在 豆瓣 早期 做出 的 最 重要 的 决定 有 哪 些 ？</td>\n",
       "      <td>NaN</td>\n",
       "      <td>豆瓣|著名公司早期关键决定|杨勃（阿北）</td>\n",
       "      <td>496|17383|15843</td>\n",
       "    </tr>\n",
       "    <tr>\n",
       "      <th>8</th>\n",
       "      <td>1004544321</td>\n",
       "      <td>中国 未 来 电子 商务 格局会 走向 何方 ？</td>\n",
       "      <td>从 美国 市场 看 ， 网络 零售 排名 前 十 位 中 有 8 个 是 实体 零售 企业 ...</td>\n",
       "      <td>电子商务</td>\n",
       "      <td>108</td>\n",
       "    </tr>\n",
       "    <tr>\n",
       "      <th>9</th>\n",
       "      <td>3811029348</td>\n",
       "      <td>关于 JavaScript 的 好 书 有 哪 些 ？</td>\n",
       "      <td>NaN</td>\n",
       "      <td>JavaScript|书籍推荐</td>\n",
       "      <td>259|147</td>\n",
       "    </tr>\n",
       "  </tbody>\n",
       "</table>\n",
       "</div>"
      ],
      "text/plain": [
       "   question_id                                     question_title  \\\n",
       "0   2600784210                如何 最 快 确定 自己 乘坐 的 飞机 自 几 号 航站楼 起飞 ？   \n",
       "1   1714848368                           产品 假设 ： 用户 天生 善良 还是 邪恶 ？   \n",
       "2   1813305872              为什 么 知乎 的 用户 看起 来 更 喜欢 咖啡馆 而 不 是 茶馆 ？   \n",
       "3   3776529318                             回 家 给 父母 买什 么 礼物 最 好 ？   \n",
       "4   1805889373                     SEO 的 业务 前景 如何 ？ 为什 么 这 么 认为 ？   \n",
       "5   3769324318                    摩尔 庄园 受到 小朋友 欢迎 的 关键 原因 是 什 么 ？   \n",
       "6   3776166802  对于 一个 国内 中小型 城市 来 说 ， 修建 市内 地铁 / 轻轨 是 否 是 解决 交...   \n",
       "7   2227360902          阿 北 （ 杨勃 ） 在 豆瓣 早期 做出 的 最 重要 的 决定 有 哪 些 ？   \n",
       "8   1004544321                           中国 未 来 电子 商务 格局会 走向 何方 ？   \n",
       "9   3811029348                        关于 JavaScript 的 好 书 有 哪 些 ？   \n",
       "\n",
       "                                     question_detail  \\\n",
       "0  有时 你 收到 的 航班 信息 里 没有 写明 是 哪 个 航站 楼 。 update . ...   \n",
       "1  美国 人 做 互联网 产品 ， 通常 会 假设 用户 天生 善良 ， 爱惜羽毛 ； 中国 人...   \n",
       "2                                                NaN   \n",
       "3                                                NaN   \n",
       "4                                                NaN   \n",
       "5                                                NaN   \n",
       "6                                                NaN   \n",
       "7                                                NaN   \n",
       "8  从 美国 市场 看 ， 网络 零售 排名 前 十 位 中 有 8 个 是 实体 零售 企业 ...   \n",
       "9                                                NaN   \n",
       "\n",
       "                      tag_names                 tag_ids  \n",
       "0         飞机|生活|旅行|机场|城市生活|航空公司  264|1|27|1699|356|1267  \n",
       "1                   互联网用户|互联网产品               12183|291  \n",
       "2                  生活方式|生活|城市生活                70|1|356  \n",
       "3                      父母|春节|礼物              86|691|315  \n",
       "4  搜索引擎营销（SEM）|网络营销|搜索引擎优化（SEO）            3225|683|805  \n",
       "5                      摩尔庄园|淘米网             18575|21803  \n",
       "6                  城市规划|地铁|交通拥堵            542|501|9907  \n",
       "7          豆瓣|著名公司早期关键决定|杨勃（阿北）         496|17383|15843  \n",
       "8                          电子商务                     108  \n",
       "9               JavaScript|书籍推荐                 259|147  "
      ]
     },
     "execution_count": 99,
     "metadata": {},
     "output_type": "execute_result"
    }
   ],
   "source": [
    "df[:10]"
   ]
  },
  {
   "cell_type": "code",
   "execution_count": 100,
   "metadata": {},
   "outputs": [],
   "source": [
    "import numpy as np"
   ]
  },
  {
   "cell_type": "code",
   "execution_count": 101,
   "metadata": {},
   "outputs": [
    {
     "name": "stderr",
     "output_type": "stream",
     "text": [
      "721608it [02:14, 5357.96it/s]\n"
     ]
    }
   ],
   "source": [
    "new_data = []\n",
    "for index,row in tqdm(df.iterrows()):\n",
    "    one_data = []\n",
    "    question_title = row['question_title']\n",
    "    one_data.append(len(question_title.split()))\n",
    "    one_data.append([word2id.get(word,0) for word in question_title.split()])\n",
    "    question_detail = row['question_detail']\n",
    "    if question_detail is np.nan:\n",
    "        one_data.append(0)\n",
    "        one_data.append([])\n",
    "    else:\n",
    "        one_data.append(len(question_detail.split()))\n",
    "        one_data.append([word2id.get(word,0) for word in question_detail.split()])\n",
    "    topic_ids = row['tag_ids']\n",
    "    one_data.append([int(topic_id) for topic_id in topic_ids.split('|')])\n",
    "    new_data.append(one_data)"
   ]
  },
  {
   "cell_type": "code",
   "execution_count": 102,
   "metadata": {},
   "outputs": [
    {
     "data": {
      "text/plain": [
       "[14,\n",
       " [35, 98, 328, 971, 32, 6245, 3, 1264, 373, 120, 539, 0, 6361, 5],\n",
       " 25,\n",
       " [1159,\n",
       "  33,\n",
       "  1304,\n",
       "  3,\n",
       "  5339,\n",
       "  452,\n",
       "  75,\n",
       "  42,\n",
       "  0,\n",
       "  6,\n",
       "  51,\n",
       "  34,\n",
       "  0,\n",
       "  1184,\n",
       "  4,\n",
       "  8058,\n",
       "  64,\n",
       "  7,\n",
       "  61,\n",
       "  337,\n",
       "  80,\n",
       "  5339,\n",
       "  567,\n",
       "  20,\n",
       "  9],\n",
       " [264, 1, 27, 1699, 356, 1267]]"
      ]
     },
     "execution_count": 102,
     "metadata": {},
     "output_type": "execute_result"
    }
   ],
   "source": [
    "new_data[0]"
   ]
  },
  {
   "cell_type": "code",
   "execution_count": 103,
   "metadata": {},
   "outputs": [],
   "source": [
    "data_len = len(new_data)"
   ]
  },
  {
   "cell_type": "code",
   "execution_count": 104,
   "metadata": {},
   "outputs": [],
   "source": [
    "import random"
   ]
  },
  {
   "cell_type": "code",
   "execution_count": 105,
   "metadata": {},
   "outputs": [],
   "source": [
    "random.shuffle(new_data)"
   ]
  },
  {
   "cell_type": "code",
   "execution_count": 106,
   "metadata": {},
   "outputs": [],
   "source": [
    "train_data = new_data[:int(data_len*0.9)]\n",
    "dev_data = new_data[int(data_len*0.9):]"
   ]
  },
  {
   "cell_type": "code",
   "execution_count": 107,
   "metadata": {},
   "outputs": [
    {
     "data": {
      "text/plain": [
       "649447"
      ]
     },
     "execution_count": 107,
     "metadata": {},
     "output_type": "execute_result"
    }
   ],
   "source": [
    "len(train_data)"
   ]
  },
  {
   "cell_type": "code",
   "execution_count": 108,
   "metadata": {},
   "outputs": [
    {
     "data": {
      "text/plain": [
       "72161"
      ]
     },
     "execution_count": 108,
     "metadata": {},
     "output_type": "execute_result"
    }
   ],
   "source": [
    "len(dev_data)"
   ]
  },
  {
   "cell_type": "code",
   "execution_count": 109,
   "metadata": {},
   "outputs": [],
   "source": [
    "pickle.dump(train_data,open('./data/train_data.pkl','wb'))"
   ]
  },
  {
   "cell_type": "code",
   "execution_count": 110,
   "metadata": {},
   "outputs": [],
   "source": [
    "pickle.dump(dev_data,open('./data/dev_data.pkl','wb'))"
   ]
  },
  {
   "cell_type": "code",
   "execution_count": 111,
   "metadata": {},
   "outputs": [
    {
     "data": {
      "text/plain": [
       "25551"
      ]
     },
     "execution_count": 111,
     "metadata": {},
     "output_type": "execute_result"
    }
   ],
   "source": [
    "len(topic2id)"
   ]
  },
  {
   "cell_type": "code",
   "execution_count": 112,
   "metadata": {},
   "outputs": [
    {
     "data": {
      "text/plain": [
       "19606"
      ]
     },
     "execution_count": 112,
     "metadata": {},
     "output_type": "execute_result"
    }
   ],
   "source": [
    "len(voc)"
   ]
  },
  {
   "cell_type": "code",
   "execution_count": 85,
   "metadata": {},
   "outputs": [],
   "source": [
    "voc = pd.read_csv('./data/voc.csv')"
   ]
  },
  {
   "cell_type": "code",
   "execution_count": 86,
   "metadata": {},
   "outputs": [
    {
     "data": {
      "text/plain": [
       "773121"
      ]
     },
     "execution_count": 86,
     "metadata": {},
     "output_type": "execute_result"
    }
   ],
   "source": [
    "len(voc)"
   ]
  },
  {
   "cell_type": "code",
   "execution_count": null,
   "metadata": {},
   "outputs": [],
   "source": []
  }
 ],
 "metadata": {
  "kernelspec": {
   "display_name": "Python 3",
   "language": "python",
   "name": "python3"
  },
  "language_info": {
   "codemirror_mode": {
    "name": "ipython",
    "version": 3
   },
   "file_extension": ".py",
   "mimetype": "text/x-python",
   "name": "python",
   "nbconvert_exporter": "python",
   "pygments_lexer": "ipython3",
   "version": "3.6.1"
  }
 },
 "nbformat": 4,
 "nbformat_minor": 2
}
